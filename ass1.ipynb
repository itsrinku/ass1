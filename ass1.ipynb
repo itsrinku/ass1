{
 "cells": [
  {
   "cell_type": "code",
   "execution_count": 1,
   "id": "cccd9737-fac7-43c9-8aa3-d065338a68fc",
   "metadata": {},
   "outputs": [],
   "source": [
    "#ans1 guido van rossum"
   ]
  },
  {
   "cell_type": "code",
   "execution_count": 2,
   "id": "49c00b86-a086-419a-affb-e9bbe17b7dda",
   "metadata": {},
   "outputs": [],
   "source": [
    "#ans2 object oriented and structured programming"
   ]
  },
  {
   "cell_type": "code",
   "execution_count": 4,
   "id": "74d66110-fc51-4b71-94f3-7125dab3074b",
   "metadata": {},
   "outputs": [],
   "source": [
    "#ans 3  yes"
   ]
  },
  {
   "cell_type": "code",
   "execution_count": 5,
   "id": "11d9a911-e0a6-4c91-a91b-dafbc1f05959",
   "metadata": {},
   "outputs": [],
   "source": [
    "#ans4 pyc"
   ]
  },
  {
   "cell_type": "code",
   "execution_count": 6,
   "id": "3e515126-39dc-45c4-83ca-ff42ba07e315",
   "metadata": {},
   "outputs": [],
   "source": [
    "#ans5 interpreted"
   ]
  },
  {
   "cell_type": "code",
   "execution_count": 7,
   "id": "e7bfabc2-7a79-4928-822e-11ed56133a4f",
   "metadata": {},
   "outputs": [],
   "source": [
    "#ans6 a module,a function body and a class defination"
   ]
  },
  {
   "cell_type": "code",
   "execution_count": 9,
   "id": "bac11b41-1539-45f8-bb28-d7698c7f87c4",
   "metadata": {},
   "outputs": [],
   "source": [
    "#ans7 # character"
   ]
  },
  {
   "cell_type": "code",
   "execution_count": 10,
   "id": "340d6737-936e-4acd-8ad4-e085b816d030",
   "metadata": {},
   "outputs": [],
   "source": [
    "#ans8 "
   ]
  },
  {
   "cell_type": "code",
   "execution_count": 11,
   "id": "377e684b-8d10-4f0c-946b-2e66802b3be2",
   "metadata": {},
   "outputs": [],
   "source": [
    "#ans9 lambda"
   ]
  },
  {
   "cell_type": "code",
   "execution_count": 12,
   "id": "2f96f055-e6aa-4bc1-a987-deea03a1730b",
   "metadata": {},
   "outputs": [],
   "source": [
    "#ans10 pip is today the standard tool for installing phython packages and their dependecy in a secure manner"
   ]
  },
  {
   "cell_type": "code",
   "execution_count": 13,
   "id": "95f8dd6d-4261-40cd-86c6-0148043c7ffe",
   "metadata": {},
   "outputs": [],
   "source": [
    "#ans11 upper(),type(),str(),list(),map() etc"
   ]
  },
  {
   "cell_type": "code",
   "execution_count": 15,
   "id": "d7cb4b31-48f9-42f2-9e2e-dc4fd6e2143a",
   "metadata": {},
   "outputs": [],
   "source": [
    "#ans12  79 characters"
   ]
  },
  {
   "cell_type": "code",
   "execution_count": 16,
   "id": "c7ac62e0-927a-4576-a862-3d8384511105",
   "metadata": {},
   "outputs": [],
   "source": [
    "#ans13 1.code length decresed compare to other languages\n",
    "#      2. extensive libraries\n",
    "#      3. portability\n",
    "#      4. large developer community\n"
   ]
  },
  {
   "cell_type": "code",
   "execution_count": 17,
   "id": "1227363f-b3f6-4978-ae5e-0cef4a7211b2",
   "metadata": {},
   "outputs": [],
   "source": [
    "#ans14  the management of this private heap is ensured internally by the phython memory"
   ]
  },
  {
   "cell_type": "code",
   "execution_count": 18,
   "id": "9de1ec5b-f858-4dfd-a510-8808d5b75e01",
   "metadata": {},
   "outputs": [],
   "source": [
    "#ans15    "
   ]
  },
  {
   "cell_type": "code",
   "execution_count": null,
   "id": "536faa9f-5e26-4ee9-b2a0-4a2439ddaa95",
   "metadata": {},
   "outputs": [],
   "source": [
    "#ans 16  yes"
   ]
  }
 ],
 "metadata": {
  "kernelspec": {
   "display_name": "Python 3 (ipykernel)",
   "language": "python",
   "name": "python3"
  },
  "language_info": {
   "codemirror_mode": {
    "name": "ipython",
    "version": 3
   },
   "file_extension": ".py",
   "mimetype": "text/x-python",
   "name": "python",
   "nbconvert_exporter": "python",
   "pygments_lexer": "ipython3",
   "version": "3.10.6"
  }
 },
 "nbformat": 4,
 "nbformat_minor": 5
}
